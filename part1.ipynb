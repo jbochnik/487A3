{
 "cells": [
  {
   "cell_type": "code",
   "execution_count": 1,
   "metadata": {},
   "outputs": [],
   "source": [
    "import findspark\n",
    "import re\n",
    "findspark.init('/home/cse587/spark-2.4.0-bin-hadoop2.7')\n",
    "import pyspark\n",
    "from pyspark.sql import *\n",
    "from pyspark.sql.functions import *\n",
    "import pandas as pd\n",
    "from nltk.corpus import stopwords\n",
    "import nltk \n",
    "from pyspark.ml.feature import RegexTokenizer, StopWordsRemover, CountVectorizer\n",
    "from pyspark.ml.classification import LogisticRegression\n",
    "from pyspark.ml import Pipeline\n",
    "from pyspark.ml.feature import OneHotEncoder,StringIndexer, VectorAssembler\n",
    "import numpy as np\n",
    "from pyspark.mllib.regression import LabeledPoint\n",
    "from pyspark.mllib.classification import SVMWithSGD, SVMModel\n",
    "from pyspark.mllib.linalg import Vector as MllibVector, Vectors as MLLibVectors\n",
    "from pyspark.ml.feature import HashingTF, IDF"
   ]
  },
  {
   "cell_type": "code",
   "execution_count": 2,
   "metadata": {},
   "outputs": [],
   "source": [
    "sc = pyspark.SparkContext()"
   ]
  },
  {
   "cell_type": "code",
   "execution_count": 3,
   "metadata": {},
   "outputs": [],
   "source": [
    "spark = SparkSession \\\n",
    "    .builder \\\n",
    "    .appName(\"PA3\") \\\n",
    "    .config(\"spark.some.config.option\",\"some-value\") \\\n",
    "    .getOrCreate()"
   ]
  },
  {
   "cell_type": "code",
   "execution_count": 4,
   "metadata": {},
   "outputs": [],
   "source": [
    "#read in data\n",
    "df = pd.read_csv(\"train.csv\")\n",
    "df = spark.createDataFrame(df)"
   ]
  },
  {
   "cell_type": "code",
   "execution_count": 5,
   "metadata": {},
   "outputs": [],
   "source": [
    "dft = pd.read_csv(\"test.csv\")\n",
    "dft = spark.createDataFrame(dft)"
   ]
  },
  {
   "cell_type": "code",
   "execution_count": 6,
   "metadata": {},
   "outputs": [],
   "source": [
    "#remove special characters from 'plot'\n",
    "df =df.withColumn('plot',lower(regexp_replace(df['plot'],\"[^a-zA-Z ]\",\"\")))"
   ]
  },
  {
   "cell_type": "code",
   "execution_count": 7,
   "metadata": {},
   "outputs": [],
   "source": [
    "dft =dft.withColumn('plot',lower(regexp_replace(dft['plot'],\"[^a-zA-Z ]\",\"\")))"
   ]
  },
  {
   "cell_type": "code",
   "execution_count": 8,
   "metadata": {},
   "outputs": [],
   "source": [
    "#tokenize 'plot'\n",
    "regexToken = RegexTokenizer(inputCol='plot',outputCol='tokens', pattern=\" \")"
   ]
  },
  {
   "cell_type": "code",
   "execution_count": 9,
   "metadata": {},
   "outputs": [],
   "source": [
    "df = regexToken.transform(df)"
   ]
  },
  {
   "cell_type": "code",
   "execution_count": 10,
   "metadata": {},
   "outputs": [],
   "source": [
    "dft = regexToken.transform(dft)"
   ]
  },
  {
   "cell_type": "code",
   "execution_count": 11,
   "metadata": {},
   "outputs": [
    {
     "name": "stderr",
     "output_type": "stream",
     "text": [
      "[nltk_data] Downloading package stopwords to /home/cse587/nltk_data...\n",
      "[nltk_data]   Package stopwords is already up-to-date!\n"
     ]
    }
   ],
   "source": [
    "nltk.download('stopwords')\n",
    "#remove stopwords from 'plot'\n",
    "stop = stopwords.words('english')"
   ]
  },
  {
   "cell_type": "code",
   "execution_count": 12,
   "metadata": {},
   "outputs": [],
   "source": [
    "stopWordsRemover = StopWordsRemover(inputCol = 'tokens',outputCol = 'cleaned').setStopWords(stop)"
   ]
  },
  {
   "cell_type": "code",
   "execution_count": 13,
   "metadata": {},
   "outputs": [],
   "source": [
    "df = stopWordsRemover.transform(df)"
   ]
  },
  {
   "cell_type": "code",
   "execution_count": 14,
   "metadata": {},
   "outputs": [],
   "source": [
    "dft = stopWordsRemover.transform(dft)"
   ]
  },
  {
   "cell_type": "code",
   "execution_count": 15,
   "metadata": {},
   "outputs": [],
   "source": [
    "#create term vectors for TDMs\n",
    "counts = CountVectorizer(inputCol= 'cleaned',outputCol= 'features',minDF=10)"
   ]
  },
  {
   "cell_type": "code",
   "execution_count": 16,
   "metadata": {},
   "outputs": [],
   "source": [
    "model = counts.fit(df)"
   ]
  },
  {
   "cell_type": "code",
   "execution_count": 17,
   "metadata": {},
   "outputs": [],
   "source": [
    "df = model.transform(df)"
   ]
  },
  {
   "cell_type": "code",
   "execution_count": 18,
   "metadata": {},
   "outputs": [],
   "source": [
    "dft = model.transform(dft)"
   ]
  },
  {
   "cell_type": "code",
   "execution_count": 19,
   "metadata": {},
   "outputs": [],
   "source": [
    "#drop unwanted columns\n",
    "df = df.drop('plot','tokens')"
   ]
  },
  {
   "cell_type": "code",
   "execution_count": 20,
   "metadata": {},
   "outputs": [],
   "source": [
    "dft = dft.drop('plot','tokens', 'movie_name')"
   ]
  },
  {
   "cell_type": "code",
   "execution_count": 21,
   "metadata": {},
   "outputs": [],
   "source": [
    "#get labels\n",
    "labels = df.select('genre')"
   ]
  },
  {
   "cell_type": "code",
   "execution_count": 22,
   "metadata": {},
   "outputs": [],
   "source": [
    "labels= labels.rdd.flatMap(lambda x:x)"
   ]
  },
  {
   "cell_type": "code",
   "execution_count": 23,
   "metadata": {},
   "outputs": [],
   "source": [
    "genre_names = ['Drama','Comedy','Romance Film','Thriller','Action','World cinema','Crime Fiction','Horror','Black-and-white','Indie','Action/Adventure','Adventure','Family Film','Short Film','Romantic drama','Animation','Musical','Science Fiction','Mystery','Romantic comedy']\n"
   ]
  },
  {
   "cell_type": "code",
   "execution_count": 24,
   "metadata": {},
   "outputs": [],
   "source": [
    "#udf to check if genre in genre names is in the moviesgenre labels returns 1 if it is 0 otherwise\n",
    "def checkGenre(x):\n",
    "    if g in x:\n",
    "        return 1\n",
    "    else:\n",
    "        return 0\n",
    "\n",
    "for g in genre_names:\n",
    "    checkGenre1 = udf(checkGenre)\n",
    "    df = df.withColumn(g,checkGenre1('genre').cast('double'))"
   ]
  },
  {
   "cell_type": "code",
   "execution_count": 25,
   "metadata": {},
   "outputs": [
    {
     "name": "stdout",
     "output_type": "stream",
     "text": [
      "Drama trained 0.05\n",
      "Comedy trained 0.1\n",
      "Romance Film trained 0.15\n",
      "Thriller trained 0.2\n",
      "Action trained 0.25\n",
      "World cinema trained 0.3\n",
      "Crime Fiction trained 0.35\n",
      "Horror trained 0.4\n",
      "Black-and-white trained 0.45\n",
      "Indie trained 0.5\n",
      "Action/Adventure trained 0.55\n",
      "Adventure trained 0.6\n",
      "Family Film trained 0.65\n",
      "Short Film trained 0.7\n",
      "Romantic drama trained 0.75\n",
      "Animation trained 0.8\n",
      "Musical trained 0.85\n",
      "Science Fiction trained 0.9\n",
      "Mystery trained 0.95\n",
      "Romantic comedy trained 1.0\n"
     ]
    }
   ],
   "source": [
    "#fit models 1 for each genre\n",
    "models = []\n",
    "i=1\n",
    "for g in genre_names:\n",
    "    reg = LogisticRegression(regParam=0.1, featuresCol='features', labelCol=g)\n",
    "    model = reg.fit(df)\n",
    "    models.append(model)\n",
    "    print(g, 'trained', i/len(genre_names))\n",
    "    i+=1"
   ]
  },
  {
   "cell_type": "code",
   "execution_count": 26,
   "metadata": {},
   "outputs": [],
   "source": [
    "#make predictions on test data\n",
    "predictions = []\n",
    "for model in models:\n",
    "    preds = model.transform(dft)\n",
    "    predictions.append(preds)"
   ]
  },
  {
   "cell_type": "code",
   "execution_count": 27,
   "metadata": {},
   "outputs": [],
   "source": [
    "#rename columns for specific genre\n",
    "for i in range(len(predictions)):\n",
    "    predictions[i] = predictions[i].withColumnRenamed('prediction', genre_names[i])"
   ]
  },
  {
   "cell_type": "code",
   "execution_count": 28,
   "metadata": {},
   "outputs": [],
   "source": [
    "#convert predictiions to a string\n",
    "def dfColToString(x):\n",
    "    x = int(x)\n",
    "    return str(x)\n",
    "\n",
    "for i in range(len(predictions)):\n",
    "    g = genre_names[i]\n",
    "    checkGenre1 = udf(dfColToString)\n",
    "    predictions[i] = predictions[i].withColumn(g, checkGenre1(g))"
   ]
  },
  {
   "cell_type": "code",
   "execution_count": 29,
   "metadata": {},
   "outputs": [],
   "source": [
    "#drop unwanted cols for submission\n",
    "for i in range(len(predictions)):\n",
    "    predictions[i] =  predictions[i].drop('movie_name', 'features', 'rawPrediction','probability', 'cleaned')"
   ]
  },
  {
   "cell_type": "code",
   "execution_count": 30,
   "metadata": {},
   "outputs": [],
   "source": [
    "#join all dfs of predictions\n",
    "final = predictions[0]\n",
    "for i in range(len(predictions))[1:]:\n",
    "    toAdd = predictions[i]\n",
    "    final = final.join(toAdd, on=['movie_id'], how='inner')"
   ]
  },
  {
   "cell_type": "code",
   "execution_count": 31,
   "metadata": {},
   "outputs": [],
   "source": [
    "#combine predictions into 1 col str 1s and 0s\n",
    "final = final.withColumn('predictions', concat(col('Drama'),lit(' '), col('Comedy'),lit(' '), col('Romance Film'),lit(' '), col('Thriller'),lit(' '), col('Action'),lit(' '), col('World cinema'),lit(' '), col('Crime Fiction'),lit(' '), col('Horror'),lit(' '), col('Black-and-White'),lit(' '), col('Indie'),lit(' '), col('Action/Adventure'),lit(' '), col('Action'),lit(' '), col('Family Film'),lit(' '), col('Short Film'),lit(' '), col('Romantic drama'),lit(' '), col('Animation'),lit(' '), col('Musical'),lit(' '), col('Science Fiction'),lit(' '), col('Mystery'),lit(' '), col('Romantic comedy') ))\n",
    "    "
   ]
  },
  {
   "cell_type": "code",
   "execution_count": 32,
   "metadata": {},
   "outputs": [],
   "source": [
    "for g in genre_names:\n",
    "    final = final.drop(g)"
   ]
  },
  {
   "cell_type": "code",
   "execution_count": 33,
   "metadata": {},
   "outputs": [],
   "source": [
    "#convert to csv\n",
    "final.toPandas().to_csv('part1predictions.csv', index=False)"
   ]
  },
  {
   "cell_type": "markdown",
   "metadata": {},
   "source": [
    "# F1 Score part1 = 0.92614\n"
   ]
  },
  {
   "cell_type": "code",
   "execution_count": null,
   "metadata": {},
   "outputs": [],
   "source": []
  },
  {
   "cell_type": "markdown",
   "metadata": {},
   "source": []
  }
 ],
 "metadata": {
  "kernelspec": {
   "display_name": "Python 3",
   "language": "python",
   "name": "python3"
  },
  "language_info": {
   "codemirror_mode": {
    "name": "ipython",
    "version": 3
   },
   "file_extension": ".py",
   "mimetype": "text/x-python",
   "name": "python",
   "nbconvert_exporter": "python",
   "pygments_lexer": "ipython3",
   "version": "3.6.9"
  }
 },
 "nbformat": 4,
 "nbformat_minor": 2
}
